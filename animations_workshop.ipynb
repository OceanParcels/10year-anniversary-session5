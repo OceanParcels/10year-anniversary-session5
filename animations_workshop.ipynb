{
 "cells": [
  {
   "cell_type": "markdown",
   "id": "13be62b4",
   "metadata": {},
   "source": [
    "## Workshop script for Session 5 Part 2: Animations of particle trajectories with matplotlib and cartopy.\n",
    "\n",
    "Data used: CaribbeanCurrent_1994.zarr\n",
    "\n",
    "About this Parcels dataset: \n",
    "Particles are released every 5 days on the transect between Venezuela (mainland) and the island of Grenada.\n",
    "Particles are advected with the 2D geostrophic flow computed from the Copernicus model output GLORYS12V1 (1/12° horizontal resolution, 50 vertical levels) for the year 1994. In order to decrease the data size for this workshop, outputs are stored every 12 hours.\n",
    "\n",
    "In this script we will first plot the simplified animation of particle trajectories. Then we will do the following exercises:\n",
    "1) Create backward animation\n",
    "2) Start animation at chosen time (e.g., 1st of February 1994)\n",
    "3) Use different color of particles for every new time of release (every 5 days)\n",
    "4) (advanced) Add trails to the particles\n",
    "\n",
    "All solutions can be found in the notebook Session5_animations_tutorial.ipynb"
   ]
  },
  {
   "cell_type": "code",
   "execution_count": null,
   "id": "642036fe",
   "metadata": {},
   "outputs": [],
   "source": [
    "import matplotlib.pyplot as plt\n",
    "import matplotlib.animation\n",
    "import numpy as np\n",
    "import xarray as xr\n",
    "import cartopy.crs as ccrs\n",
    "import cartopy.feature as cfeature\n",
    "from datetime import timedelta\n",
    "import matplotlib.cm as cm"
   ]
  },
  {
   "cell_type": "markdown",
   "id": "462b5128",
   "metadata": {},
   "source": [
    "In order to see the animation inline in notebook, we need to activate it:"
   ]
  },
  {
   "cell_type": "code",
   "execution_count": 2,
   "id": "5f79baf9",
   "metadata": {},
   "outputs": [],
   "source": [
    "# for interactive display of animation\n",
    "plt.rcParams[\"animation.html\"] = \"jshtml\""
   ]
  },
  {
   "cell_type": "markdown",
   "id": "61f976c2",
   "metadata": {},
   "source": [
    "Load the data and get familiar with it:"
   ]
  },
  {
   "cell_type": "code",
   "execution_count": null,
   "id": "403ef6bf",
   "metadata": {},
   "outputs": [],
   "source": [
    "# Load dataset\n",
    "ds = xr.open_zarr('data/CaribbeanCurrent_1994.zarr')\n",
    "print(f\"Loaded: {len(ds.trajectory)} particles\")\n",
    "\n",
    "# For performance, load only lon, lat, time into memory\n",
    "print(\"Loading subset into memory...\")\n",
    "ds = ds[[\"lon\", \"lat\", \"time\"]].load()\n",
    "\n",
    "ds"
   ]
  },
  {
   "cell_type": "markdown",
   "id": "daea1916",
   "metadata": {},
   "source": [
    "We need to set up the time dimension for plotting the particles correctly based on their release times. This particular simulation has an output dt of 12 hours. We set up the **timerange** which determines at which times the particles will start the animation."
   ]
  },
  {
   "cell_type": "code",
   "execution_count": null,
   "id": "5177da75",
   "metadata": {},
   "outputs": [],
   "source": [
    "# Setup time dimension:\n",
    "# For this example our output is stored at every 12 hours\n",
    "outputdt = timedelta(hours=12)\n",
    "\n",
    "# Create timerange from min to max time in your dataset\n",
    "timerange = np.arange(\n",
    "    np.nanmin(ds[\"time\"].values),\n",
    "    np.nanmax(ds[\"time\"].values) + np.timedelta64(outputdt),\n",
    "    outputdt,\n",
    ")\n",
    "\n",
    "print(f\"Timerange has {len(timerange)} timesteps from {timerange[0]} to {timerange[-1]}\")"
   ]
  },
  {
   "cell_type": "markdown",
   "id": "5b061f98",
   "metadata": {},
   "source": [
    "Following is the code for creating a simple animation, taking into the account the **timerange** and plotting the trajectories as scatter plots.\n",
    "\n",
    "🐝 **Do the following:**\n",
    "- if you are new to animations, get familiar with the code\n",
    "- increase the number of frames to create longer animation"
   ]
  },
  {
   "cell_type": "code",
   "execution_count": null,
   "id": "fd5efa35",
   "metadata": {},
   "outputs": [],
   "source": [
    "# Number of timesteps to animate\n",
    "nframes = 50    # use less frames for testing purposes\n",
    "\n",
    "# figure setup\n",
    "fig, ax = plt.subplots(figsize=(6, 5), subplot_kw={'projection': ccrs.PlateCarree()})\n",
    "ax.set_xlim(-71, -59)\n",
    "ax.set_ylim(9.5, 19.5)\n",
    "ax.coastlines(color='saddlebrown')\n",
    "ax.add_feature(cfeature.LAND, alpha=0.5, facecolor='saddlebrown')\n",
    "\n",
    "# Find particles at the first time step\n",
    "time_id = np.where(ds[\"time\"] == timerange[0])\n",
    "initial_lons = ds[\"lon\"].values[time_id]\n",
    "initial_lats = ds[\"lat\"].values[time_id]\n",
    "\n",
    "# Remove any NaN values for initial plot\n",
    "valid_initial = ~np.isnan(initial_lons) & ~np.isnan(initial_lats)\n",
    "# plot first timestep\n",
    "scatter = ax.scatter(\n",
    "    initial_lons[valid_initial], \n",
    "    initial_lats[valid_initial], \n",
    "    s=2, c='b'\n",
    ")\n",
    "\n",
    "# Set initial title\n",
    "t_str = str(timerange[0])[:19]  # Format datetime nicely\n",
    "title = ax.set_title(f\"Particles at t = {t_str}\")\n",
    "\n",
    "# loop over for animation\n",
    "def animate(i):\n",
    "    print(f\"Animating frame {i+1}/{len(timerange)} at time {timerange[i]}\")\n",
    "    t_str = str(timerange[i])[:19]\n",
    "    title.set_text(f\"Particles at t = {t_str}\")\n",
    "    \n",
    "    # Find particles at current time\n",
    "    time_id = np.where(ds[\"time\"] == timerange[i])\n",
    "    current_lons = ds[\"lon\"].values[time_id]\n",
    "    current_lats = ds[\"lat\"].values[time_id]\n",
    "    \n",
    "    # Remove NaN values\n",
    "    valid = ~np.isnan(current_lons) & ~np.isnan(current_lats)\n",
    "    \n",
    "    # Update scatter plot positions using scatter.set_offsets\n",
    "    if np.any(valid):\n",
    "        scatter.set_offsets(np.c_[current_lons[valid], current_lats[valid]])\n",
    "    else:\n",
    "        scatter.set_offsets(np.empty((0, 2)))  # Empty array if no valid particles\n",
    "\n",
    "# Create animation\n",
    "anim = matplotlib.animation.FuncAnimation(fig, animate, frames=nframes, interval=100)\n",
    "anim"
   ]
  },
  {
   "cell_type": "markdown",
   "id": "d8c1358a",
   "metadata": {},
   "source": [
    "## 🐝 **Task 1: Backward animation**\n",
    "\n",
    "Create animation that starts at the last existing timestep of the Parcels dataset. "
   ]
  },
  {
   "cell_type": "code",
   "execution_count": null,
   "id": "bd55cc1c",
   "metadata": {},
   "outputs": [],
   "source": [
    "\n",
    "\n",
    "# Number of timesteps to animate\n",
    "nframes = 50    # use less frames for testing purposes\n",
    "\n",
    "# figure setup\n",
    "fig, ax = plt.subplots(figsize=(6, 5), subplot_kw={'projection': ccrs.PlateCarree()})\n",
    "ax.set_xlim(-71, -59)\n",
    "ax.set_ylim(9.5, 19.5)\n",
    "ax.coastlines(color='saddlebrown')\n",
    "ax.add_feature(cfeature.LAND, alpha=0.5, facecolor='saddlebrown')\n",
    "\n",
    "... # continue "
   ]
  },
  {
   "cell_type": "markdown",
   "id": "2ad9bdcf",
   "metadata": {},
   "source": [
    "## 🐝 **Task 2: Starting animation at a chosen time**\n",
    "\n",
    "Start animation on the 1st of February 1994."
   ]
  },
  {
   "cell_type": "code",
   "execution_count": null,
   "id": "c007597c",
   "metadata": {},
   "outputs": [],
   "source": [
    "# Number of timesteps to animate\n",
    "nframes = 50    # use less frames for testing purposes\n",
    "\n",
    "# figure setup\n",
    "fig, ax = plt.subplots(figsize=(6, 5), subplot_kw={'projection': ccrs.PlateCarree()})\n",
    "ax.set_xlim(-71, -59)\n",
    "ax.set_ylim(9.5, 19.5)\n",
    "ax.coastlines(color='saddlebrown')\n",
    "ax.add_feature(cfeature.LAND, alpha=0.5, facecolor='saddlebrown')\n",
    "\n",
    "... # continue "
   ]
  },
  {
   "cell_type": "markdown",
   "id": "bdc70f5b",
   "metadata": {},
   "source": [
    "## 🐝 **Task 3: Add colors to particles**\n",
    "\n",
    "Use different color of particles for every new time of release. \n",
    "\n",
    "Extra: think about the colorscheme (in Part 2 Christian will discuss the importance of colors)"
   ]
  },
  {
   "cell_type": "code",
   "execution_count": 8,
   "id": "e2b41b42",
   "metadata": {},
   "outputs": [],
   "source": [
    "# write your code here"
   ]
  },
  {
   "cell_type": "markdown",
   "id": "6eb26345",
   "metadata": {},
   "source": [
    "## 🐝 **Task 4: Particle trails**\n",
    "\n",
    "Add particle trails showing the last 10 days of trajectory.\n",
    "\n",
    "HINT 1: plot trails for every 10th particle to speed up the animation\n",
    "\n",
    "HINT 2 (optional, see code below): you can pre-compute the data for all particles at all time steps to speed up the animation\n",
    "\n",
    "```python\n",
    "all_particles_data = []\n",
    "for i, target_time in enumerate(timerange):\n",
    "    time_id = np.where(ds[\"time\"] == target_time)\n",
    "    lons = ds[\"lon\"].values[time_id]\n",
    "    lats = ds[\"lat\"].values[time_id]\n",
    "    particle_indices = time_id[0]\n",
    "    valid = ~np.isnan(lons) & ~np.isnan(lats)\n",
    "    all_particles_data.append({\n",
    "        'lons': lons[valid],\n",
    "        'lats': lats[valid],\n",
    "        'particle_indices': particle_indices[valid],\n",
    "        'valid_count': np.sum(valid)\n",
    "    })\n",
    "```"
   ]
  },
  {
   "cell_type": "code",
   "execution_count": null,
   "id": "26f34218",
   "metadata": {},
   "outputs": [],
   "source": [
    "# write your code here\n"
   ]
  }
 ],
 "metadata": {
  "kernelspec": {
   "display_name": "fresh_kernel",
   "language": "python",
   "name": "python3"
  },
  "language_info": {
   "codemirror_mode": {
    "name": "ipython",
    "version": 3
   },
   "file_extension": ".py",
   "mimetype": "text/x-python",
   "name": "python",
   "nbconvert_exporter": "python",
   "pygments_lexer": "ipython3",
   "version": "3.11.11"
  }
 },
 "nbformat": 4,
 "nbformat_minor": 5
}
